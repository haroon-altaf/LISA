{
 "cells": [
  {
   "cell_type": "code",
   "execution_count": 7,
   "id": "0746329a",
   "metadata": {},
   "outputs": [],
   "source": [
    "from Scrapers import *\n",
    "import pandasgui\n",
    "import warnings\n",
    "warnings.filterwarnings(\"ignore\", category=UserWarning)\n",
    "warnings.filterwarnings(\"ignore\", category=FutureWarning)"
   ]
  },
  {
   "cell_type": "code",
   "execution_count": 10,
   "id": "9676fa81",
   "metadata": {},
   "outputs": [],
   "source": [
    "# US manufacturing data\n",
    "us_manufact_pmi = ManufacturingPmi.download().data\n",
    "us_man_table = us_manufact_pmi.full_pmi_table\n",
    "\n",
    "# US services data\n",
    "us_serv_pmi = ServicesPmi.download().data\n",
    "us_serv_table = us_serv_pmi.full_pmi_table\n",
    "\n",
    "# US consumer data\n",
    "us_consumer = ConsumerSurvey.download().data\n",
    "\n",
    "# US housing data\n",
    "us_housing = ConstructionSurvey.download().data\n",
    "\n",
    "# Europe data\n",
    "eu_survey = EuroSurvey.download().data\n",
    "\n",
    "# Caixin PMI data\n",
    "caixin_manufact_pmi = CaixinManufacturingPmi.download().data\n",
    "caixin_serv_pmi = CaixinServicesPmi.download().data\n",
    "\n",
    "# Market data from Trading Economics\n",
    "market_data = MarketData.download().data\n",
    "bonds_main = market_data.bonds.major10y\n",
    "stocks_main = market_data.stocks.major\n",
    "crypto_main = market_data.crypto.crypto\n",
    "currencies_main = market_data.currencies.major\n",
    "commodities = market_data.commodities.all\n",
    "\n",
    "# Finviz data on inndustry and stock levels\n",
    "industries = FinvizIndustries.download().data\n",
    "stocks = FinvizSreener.download(num_rows=1000, view_col_nums='all').data"
   ]
  },
  {
   "cell_type": "code",
   "execution_count": 11,
   "id": "8d59e0cb",
   "metadata": {},
   "outputs": [
    {
     "name": "stderr",
     "output_type": "stream",
     "text": [
      "PandasGUI INFO — pandasgui.gui — Opening PandasGUI\n"
     ]
    }
   ],
   "source": [
    "# Display downloaded data in GUI\n",
    "show_list = [us_man_table, us_serv_table, us_consumer, us_housing, eu_survey, caixin_manufact_pmi, caixin_serv_pmi, \n",
    "             bonds_main, stocks_main, crypto_main, currencies_main, commodities, industries, stocks]\n",
    "\n",
    "pandasgui.show(*show_list);"
   ]
  }
 ],
 "metadata": {
  "kernelspec": {
   "display_name": "lisp_venv",
   "language": "python",
   "name": "python3"
  },
  "language_info": {
   "codemirror_mode": {
    "name": "ipython",
    "version": 3
   },
   "file_extension": ".py",
   "mimetype": "text/x-python",
   "name": "python",
   "nbconvert_exporter": "python",
   "pygments_lexer": "ipython3",
   "version": "3.13.3"
  }
 },
 "nbformat": 4,
 "nbformat_minor": 5
}
